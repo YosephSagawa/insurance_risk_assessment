{
 "cells": [
  {
   "cell_type": "markdown",
   "id": "2f7ee356",
   "metadata": {},
   "source": [
    "# EDA Analysis"
   ]
  },
  {
   "cell_type": "markdown",
   "id": "33d50a4e",
   "metadata": {},
   "source": [
    "## Import Data "
   ]
  },
  {
   "cell_type": "code",
   "execution_count": null,
   "id": "f5ef7460",
   "metadata": {},
   "outputs": [
    {
     "name": "stderr",
     "output_type": "stream",
     "text": [
      "C:\\Users\\Hp\\AppData\\Local\\Temp\\ipykernel_65212\\3260353830.py:15: DtypeWarning: Columns (32,37) have mixed types. Specify dtype option on import or set low_memory=False.\n",
      "  df = pd.read_csv('../data/raw/MachineLearningRating_v3.txt', delimiter='|')\n"
     ]
    }
   ],
   "source": [
    "import pandas as pd\n",
    "import numpy as np\n",
    "import matplotlib.pyplot as plt\n",
    "import seaborn as sns\n",
    "import os\n",
    "from pathlib import Path\n",
    "\n",
    "# Set Seaborn theme for consistent styling\n",
    "sns.set_theme(style=\"whitegrid\", palette=\"husl\")\n",
    "\n",
    "# Create directories for outputs\n",
    "Path(\"outputs/plots\").mkdir(parents=True, exist_ok=True)\n",
    "\n",
    "try:\n",
    "    df = pd.read_csv('../data/raw/MachineLearningRating_v3.txt', delimiter='|')\n",
    "except FileNotFoundError:\n",
    "    print(\"Error: raw/MachineLearningRating_v3.txt not found\")\n",
    "    exit(1)"
   ]
  },
  {
   "cell_type": "markdown",
   "id": "7b256819",
   "metadata": {},
   "source": [
    "## Data Understanding and Descriptive Statistics"
   ]
  },
  {
   "cell_type": "code",
   "execution_count": 3,
   "id": "cb3ec725",
   "metadata": {},
   "outputs": [
    {
     "name": "stdout",
     "output_type": "stream",
     "text": [
      "Dataset Info:\n",
      "<class 'pandas.core.frame.DataFrame'>\n",
      "RangeIndex: 1000098 entries, 0 to 1000097\n",
      "Data columns (total 52 columns):\n",
      " #   Column                    Non-Null Count    Dtype  \n",
      "---  ------                    --------------    -----  \n",
      " 0   UnderwrittenCoverID       1000098 non-null  int64  \n",
      " 1   PolicyID                  1000098 non-null  int64  \n",
      " 2   TransactionMonth          1000098 non-null  object \n",
      " 3   IsVATRegistered           1000098 non-null  bool   \n",
      " 4   Citizenship               1000098 non-null  object \n",
      " 5   LegalType                 1000098 non-null  object \n",
      " 6   Title                     1000098 non-null  object \n",
      " 7   Language                  1000098 non-null  object \n",
      " 8   Bank                      854137 non-null   object \n",
      " 9   AccountType               959866 non-null   object \n",
      " 10  MaritalStatus             991839 non-null   object \n",
      " 11  Gender                    990562 non-null   object \n",
      " 12  Country                   1000098 non-null  object \n",
      " 13  Province                  1000098 non-null  object \n",
      " 14  PostalCode                1000098 non-null  int64  \n",
      " 15  MainCrestaZone            1000098 non-null  object \n",
      " 16  SubCrestaZone             1000098 non-null  object \n",
      " 17  ItemType                  1000098 non-null  object \n",
      " 18  mmcode                    999546 non-null   float64\n",
      " 19  VehicleType               999546 non-null   object \n",
      " 20  RegistrationYear          1000098 non-null  int64  \n",
      " 21  make                      999546 non-null   object \n",
      " 22  Model                     999546 non-null   object \n",
      " 23  Cylinders                 999546 non-null   float64\n",
      " 24  cubiccapacity             999546 non-null   float64\n",
      " 25  kilowatts                 999546 non-null   float64\n",
      " 26  bodytype                  999546 non-null   object \n",
      " 27  NumberOfDoors             999546 non-null   float64\n",
      " 28  VehicleIntroDate          999546 non-null   object \n",
      " 29  CustomValueEstimate       220456 non-null   float64\n",
      " 30  AlarmImmobiliser          1000098 non-null  object \n",
      " 31  TrackingDevice            1000098 non-null  object \n",
      " 32  CapitalOutstanding        1000096 non-null  object \n",
      " 33  NewVehicle                846803 non-null   object \n",
      " 34  WrittenOff                358197 non-null   object \n",
      " 35  Rebuilt                   358197 non-null   object \n",
      " 36  Converted                 358197 non-null   object \n",
      " 37  CrossBorder               698 non-null      object \n",
      " 38  NumberOfVehiclesInFleet   0 non-null        float64\n",
      " 39  SumInsured                1000098 non-null  float64\n",
      " 40  TermFrequency             1000098 non-null  object \n",
      " 41  CalculatedPremiumPerTerm  1000098 non-null  float64\n",
      " 42  ExcessSelected            1000098 non-null  object \n",
      " 43  CoverCategory             1000098 non-null  object \n",
      " 44  CoverType                 1000098 non-null  object \n",
      " 45  CoverGroup                1000098 non-null  object \n",
      " 46  Section                   1000098 non-null  object \n",
      " 47  Product                   1000098 non-null  object \n",
      " 48  StatutoryClass            1000098 non-null  object \n",
      " 49  StatutoryRiskType         1000098 non-null  object \n",
      " 50  TotalPremium              1000098 non-null  float64\n",
      " 51  TotalClaims               1000098 non-null  float64\n",
      "dtypes: bool(1), float64(11), int64(4), object(36)\n",
      "memory usage: 390.1+ MB\n",
      "None\n",
      "\n",
      "Descriptive Statistics:\n",
      "       TotalPremium   TotalClaims  CustomValueEstimate\n",
      "count  1.000098e+06  1.000098e+06         2.204560e+05\n",
      "mean   6.190550e+01  6.486119e+01         2.255311e+05\n",
      "std    2.302845e+02  2.384075e+03         5.645157e+05\n",
      "min   -7.825768e+02 -1.200241e+04         2.000000e+04\n",
      "25%    0.000000e+00  0.000000e+00         1.350000e+05\n",
      "50%    2.178333e+00  0.000000e+00         2.200000e+05\n",
      "75%    2.192982e+01  0.000000e+00         2.800000e+05\n",
      "max    6.528260e+04  3.930921e+05         2.655000e+07\n"
     ]
    }
   ],
   "source": [
    "# 1. Data Understanding and Descriptive Statistics\n",
    "print(\"Dataset Info:\")\n",
    "print(df.info())\n",
    "print(\"\\nDescriptive Statistics:\")\n",
    "print(df[['TotalPremium', 'TotalClaims', 'CustomValueEstimate']].describe())"
   ]
  },
  {
   "cell_type": "markdown",
   "id": "ecb87de0",
   "metadata": {},
   "source": [
    "## Data quality assessment"
   ]
  },
  {
   "cell_type": "code",
   "execution_count": 4,
   "id": "b8a37b8f",
   "metadata": {},
   "outputs": [
    {
     "name": "stdout",
     "output_type": "stream",
     "text": [
      "\n",
      "Missing Values:\n",
      "UnderwrittenCoverID               0\n",
      "PolicyID                          0\n",
      "TransactionMonth                  0\n",
      "IsVATRegistered                   0\n",
      "Citizenship                       0\n",
      "LegalType                         0\n",
      "Title                             0\n",
      "Language                          0\n",
      "Bank                         145961\n",
      "AccountType                   40232\n",
      "MaritalStatus                  8259\n",
      "Gender                         9536\n",
      "Country                           0\n",
      "Province                          0\n",
      "PostalCode                        0\n",
      "MainCrestaZone                    0\n",
      "SubCrestaZone                     0\n",
      "ItemType                          0\n",
      "mmcode                          552\n",
      "VehicleType                     552\n",
      "RegistrationYear                  0\n",
      "make                            552\n",
      "Model                           552\n",
      "Cylinders                       552\n",
      "cubiccapacity                   552\n",
      "kilowatts                       552\n",
      "bodytype                        552\n",
      "NumberOfDoors                   552\n",
      "VehicleIntroDate                552\n",
      "CustomValueEstimate          779642\n",
      "AlarmImmobiliser                  0\n",
      "TrackingDevice                    0\n",
      "CapitalOutstanding                2\n",
      "NewVehicle                   153295\n",
      "WrittenOff                   641901\n",
      "Rebuilt                      641901\n",
      "Converted                    641901\n",
      "CrossBorder                  999400\n",
      "NumberOfVehiclesInFleet     1000098\n",
      "SumInsured                        0\n",
      "TermFrequency                     0\n",
      "CalculatedPremiumPerTerm          0\n",
      "ExcessSelected                    0\n",
      "CoverCategory                     0\n",
      "CoverType                         0\n",
      "CoverGroup                        0\n",
      "Section                           0\n",
      "Product                           0\n",
      "StatutoryClass                    0\n",
      "StatutoryRiskType                 0\n",
      "TotalPremium                      0\n",
      "TotalClaims                       0\n",
      "dtype: int64\n"
     ]
    }
   ],
   "source": [
    "# 2. Data Quality Assessment\n",
    "print(\"\\nMissing Values:\")\n",
    "print(df.isnull().sum())"
   ]
  },
  {
   "cell_type": "code",
   "execution_count": 5,
   "id": "038c7c38",
   "metadata": {},
   "outputs": [],
   "source": [
    "# Handle missing values (example: impute numerical with median, categorical with mode)\n",
    "df['TotalPremium'] = df['TotalPremium'].fillna(df['TotalPremium'].median())\n",
    "df['TotalClaims'] = df['TotalClaims'].fillna(df['TotalClaims'].median())\n",
    "df['CustomValueEstimate'] = df['CustomValueEstimate'].fillna(df['CustomValueEstimate'].median())"
   ]
  },
  {
   "cell_type": "code",
   "execution_count": 6,
   "id": "13b0f6e6",
   "metadata": {},
   "outputs": [
    {
     "name": "stdout",
     "output_type": "stream",
     "text": [
      "Cleaned dataset saved as 'data/insurance_data_cleaned.csv'\n"
     ]
    }
   ],
   "source": [
    "# Categorical: Impute with mode\n",
    "for col in ['Gender', 'Province', 'VehicleType']:\n",
    "    if col in df.columns:\n",
    "        df[col] = df[col].fillna(df[col].mode()[0])\n",
    "\n",
    "\n",
    "# Save cleaned dataset\n",
    "df.to_csv('../data/processed/insurance_data_cleaned.csv', index=False)\n",
    "print(\"Cleaned dataset saved as 'data/insurance_data_cleaned.csv'\")"
   ]
  },
  {
   "cell_type": "markdown",
   "id": "2e347b65",
   "metadata": {},
   "source": [
    "## Univariate Analysis"
   ]
  },
  {
   "cell_type": "code",
   "execution_count": 9,
   "id": "aa10a209",
   "metadata": {},
   "outputs": [],
   "source": [
    "# 3. Univariate Analysis\n",
    "# Numerical: Histograms\n",
    "plt.figure(figsize=(12, 4))\n",
    "for i, col in enumerate(['TotalPremium', 'TotalClaims', 'CustomValueEstimate'], 1):\n",
    "    if col in df.columns:\n",
    "        plt.subplot(1, 3, i)\n",
    "        sns.histplot(df[col].dropna(), kde=True)\n",
    "        plt.title(f'Distribution of {col}')\n",
    "    else:\n",
    "        print(f\"Warning: Column '{col}' not found in dataset.\")\n",
    "plt.tight_layout()\n",
    "plt.savefig('outputs/plots/univariate_distributions.png')\n",
    "plt.close()\n",
    "\n",
    "# Categorical: Bar charts\n",
    "if 'Province' in df.columns:\n",
    "    plt.figure(figsize=(10, 6))\n",
    "    sns.countplot(data=df, x='Province')\n",
    "    plt.title('Distribution of Policies by Province')\n",
    "    plt.xticks(rotation=45)\n",
    "    plt.savefig('outputs/plots/province_distribution.png')\n",
    "    plt.close()\n",
    "else:\n",
    "    print(\"Warning: 'Province' column not found in dataset.\")"
   ]
  },
  {
   "cell_type": "markdown",
   "id": "8c872191",
   "metadata": {},
   "source": [
    "## Bivariate/ Multivariate Analysis"
   ]
  },
  {
   "cell_type": "code",
   "execution_count": 10,
   "id": "fe0a1a43",
   "metadata": {},
   "outputs": [],
   "source": [
    "# 4. Bivariate/Multivariate Analysis\n",
    "# Loss Ratio by Province\n",
    "if 'TotalClaims' in df.columns and 'TotalPremium' in df.columns:\n",
    "    df['LossRatio'] = df['TotalClaims'] / df['TotalPremium'].replace(0, np.nan)  # Avoid division by zero\n",
    "    if 'Province' in df.columns:\n",
    "        plt.figure(figsize=(10, 6))\n",
    "        sns.boxplot(data=df, x='Province', y='LossRatio')\n",
    "        plt.title('Loss Ratio by Province')\n",
    "        plt.xticks(rotation=45)\n",
    "        plt.savefig('outputs/plots/loss_ratio_province.png')\n",
    "        plt.close()\n",
    "    else:\n",
    "        print(\"Warning: 'Province' column not found for loss ratio analysis.\")\n",
    "else:\n",
    "    print(\"Warning: 'TotalClaims' or 'TotalPremium' column not found for loss ratio calculation.\")\n",
    "\n",
    "# Correlation matrix\n",
    "numerical_cols = ['TotalPremium', 'TotalClaims', 'CustomValueEstimate']\n",
    "available_cols = [col for col in numerical_cols if col in df.columns]\n",
    "if available_cols:\n",
    "    plt.figure(figsize=(8, 6))\n",
    "    sns.heatmap(df[available_cols].corr(), annot=True, cmap='coolwarm')\n",
    "    plt.title('Correlation Matrix')\n",
    "    plt.savefig('outputs/plots/correlation_matrix.png')\n",
    "    plt.close()\n",
    "else:\n",
    "    print(\"Warning: No numerical columns available for correlation matrix.\")"
   ]
  },
  {
   "cell_type": "markdown",
   "id": "069ab374",
   "metadata": {},
   "source": [
    "## Outlier Detection"
   ]
  },
  {
   "cell_type": "code",
   "execution_count": 14,
   "id": "e9abd05e",
   "metadata": {},
   "outputs": [],
   "source": [
    "# 5. Outlier Detection\n",
    "plt.figure(figsize=(12, 4))\n",
    "for i, col in enumerate(['TotalClaims', 'CustomValueEstimate', 'TotalPremium'], 1):\n",
    "    if col in df.columns:\n",
    "        plt.subplot(1, 3, i)\n",
    "        sns.boxplot(y=df[col])\n",
    "        plt.title(f'Boxplot of {col}')\n",
    "    else:\n",
    "        print(f\"Warning: Column '{col}' not found for outlier detection.\")\n",
    "plt.tight_layout()\n",
    "plt.savefig('outputs/plots/outlier_boxplots.png')\n",
    "plt.close()\n"
   ]
  },
  {
   "cell_type": "markdown",
   "id": "c11932e8",
   "metadata": {},
   "source": [
    "## Temporal Trends"
   ]
  },
  {
   "cell_type": "code",
   "execution_count": 12,
   "id": "4e36f0b4",
   "metadata": {},
   "outputs": [
    {
     "name": "stdout",
     "output_type": "stream",
     "text": [
      "EDA completed. Visualizations saved in 'outputs/plots' directory.\n"
     ]
    }
   ],
   "source": [
    "# 6. Temporal Trends\n",
    "if 'TransactionMonth' in df.columns:\n",
    "    try:\n",
    "        df['TransactionMonth'] = pd.to_datetime(df['TransactionMonth'], errors='coerce')\n",
    "        df['Month'] = df['TransactionMonth'].dt.to_period('M')\n",
    "        claim_trends = df.groupby('Month')['TotalClaims'].mean()\n",
    "        plt.figure(figsize=(10, 6))\n",
    "        claim_trends.plot()\n",
    "        plt.title('Average Claim Amount Over Time')\n",
    "        plt.xlabel('Month')\n",
    "        plt.ylabel('Average TotalClaims')\n",
    "        plt.savefig('outputs/plots/claim_trends.png')\n",
    "        plt.close()\n",
    "    except Exception as e:\n",
    "        print(f\"Error in temporal analysis: {e}\")\n",
    "else:\n",
    "    print(\"Warning: 'TransactionMonth' column not found for temporal analysis.\")\n",
    "\n",
    "print(\"EDA completed. Visualizations saved in 'outputs/plots' directory.\")"
   ]
  }
 ],
 "metadata": {
  "kernelspec": {
   "display_name": ".venv",
   "language": "python",
   "name": "python3"
  },
  "language_info": {
   "codemirror_mode": {
    "name": "ipython",
    "version": 3
   },
   "file_extension": ".py",
   "mimetype": "text/x-python",
   "name": "python",
   "nbconvert_exporter": "python",
   "pygments_lexer": "ipython3",
   "version": "3.12.2"
  }
 },
 "nbformat": 4,
 "nbformat_minor": 5
}
